{
 "cells": [
  {
   "cell_type": "markdown",
   "metadata": {},
   "source": [
    "Assignment - 1:Oops"
   ]
  },
  {
   "cell_type": "markdown",
   "metadata": {},
   "source": [
    "Problem 1: Bank Account Create a class representing a bank account with attributes like account number, account holder name, and balance. Implement methods to deposit and withdraw money from the account."
   ]
  },
  {
   "cell_type": "code",
   "execution_count": 2,
   "metadata": {},
   "outputs": [
    {
     "name": "stdout",
     "output_type": "stream",
     "text": [
      "Deposited 500. New balance is 1500.0.\n",
      "Withdrew 200. New balance is 1300.0.\n",
      "Final balance: 1300.0\n"
     ]
    }
   ],
   "source": [
    "class BankAccount:\n",
    "    def __init__(self, account_number, account_holder_name, balance=0.0):\n",
    "        self.account_number = account_number\n",
    "        self.account_holder_name = account_holder_name\n",
    "        self.balance = balance\n",
    "\n",
    "    def deposit(self, amount):\n",
    "        if amount > 0:\n",
    "            self.balance += amount\n",
    "            print(f\"Deposited {amount}. New balance is {self.balance}.\")\n",
    "        else:\n",
    "            print(\"Deposit amount must be positive.\")\n",
    "\n",
    "    def withdraw(self, amount):\n",
    "        if amount > 0:\n",
    "            if self.balance >= amount:\n",
    "                self.balance -= amount\n",
    "                print(f\"Withdrew {amount}. New balance is {self.balance}.\")\n",
    "            else:\n",
    "                print(\"Insufficient balance.\")\n",
    "        else:\n",
    "            print(\"Withdrawal amount must be positive.\")\n",
    "\n",
    "    def get_balance(self):\n",
    "        return self.balance\n",
    "\n",
    "# Example usage:\n",
    "account = BankAccount(\"123456789\", \"John Doe\", 1000.0)\n",
    "account.deposit(500)\n",
    "account.withdraw(200)\n",
    "print(f\"Final balance: {account.get_balance()}\")\n"
   ]
  },
  {
   "cell_type": "markdown",
   "metadata": {},
   "source": [
    "Problem 2: Employee Management Create a class representing an employee with attributes like employee ID, name, and salary. Implement methods to calculate the yearly bonus and display employee details."
   ]
  },
  {
   "cell_type": "code",
   "execution_count": 2,
   "metadata": {},
   "outputs": [
    {
     "name": "stdout",
     "output_type": "stream",
     "text": [
      "Employee ID: EV123\n",
      "Name: Abhishek\n",
      "Salary: 50000\n",
      "Yearly Bonus: 5000.0\n"
     ]
    }
   ],
   "source": [
    "class Employee:\n",
    "    def __init__(self, employee_id, name, salary):\n",
    "        self.employee_id = employee_id\n",
    "        self.name = name\n",
    "        self.salary = salary\n",
    "\n",
    "    def calculate_yearly_bonus(self, bonus_percentage):\n",
    "        if bonus_percentage > 0:\n",
    "            bonus = (self.salary * bonus_percentage) / 100\n",
    "            return bonus\n",
    "        else:\n",
    "            print(\"Bonus percentage must be positive.\")\n",
    "            return 0\n",
    "\n",
    "    def display_employee_details(self):\n",
    "        print(f\"Employee ID: {self.employee_id}\")\n",
    "        print(f\"Name: {self.name}\")\n",
    "        print(f\"Salary: {self.salary}\")\n",
    "\n",
    "employee = Employee(\"EV123\", \"Abhishek\", 50000)\n",
    "employee.display_employee_details()\n",
    "bonus = employee.calculate_yearly_bonus(10)\n",
    "print(f\"Yearly Bonus: {bonus}\")\n"
   ]
  },
  {
   "cell_type": "markdown",
   "metadata": {},
   "source": [
    "Problem 3: Vehicle Rental Create a class representing a vehicle rental system. Implement methods to rent a vehicle, return a vehicle, and display available vehicles."
   ]
  },
  {
   "cell_type": "code",
   "execution_count": 3,
   "metadata": {},
   "outputs": [
    {
     "name": "stdout",
     "output_type": "stream",
     "text": [
      "Available Vehicles:\n",
      "ID: V1, Type: Car\n",
      "ID: V2, Type: Bike\n",
      "ID: V3, Type: Truck\n",
      "Vehicle V1 rented successfully.\n",
      "Available Vehicles:\n",
      "ID: V2, Type: Bike\n",
      "ID: V3, Type: Truck\n",
      "Vehicle V1 returned successfully.\n",
      "Available Vehicles:\n",
      "ID: V1, Type: Car\n",
      "ID: V2, Type: Bike\n",
      "ID: V3, Type: Truck\n"
     ]
    }
   ],
   "source": [
    "class VehicleRental:\n",
    "    def __init__(self):\n",
    "        self.vehicles = []\n",
    "        self.rented_vehicles = []\n",
    "\n",
    "    def add_vehicle(self, vehicle_id, vehicle_type):\n",
    "        vehicle = {\n",
    "            \"vehicle_id\": vehicle_id,\n",
    "            \"vehicle_type\": vehicle_type,\n",
    "            \"rented\": False\n",
    "        }\n",
    "        self.vehicles.append(vehicle)\n",
    "\n",
    "    def rent_vehicle(self, vehicle_id):\n",
    "        for vehicle in self.vehicles:\n",
    "            if vehicle[\"vehicle_id\"] == vehicle_id and not vehicle[\"rented\"]:\n",
    "                vehicle[\"rented\"] = True\n",
    "                self.rented_vehicles.append(vehicle)\n",
    "                print(f\"Vehicle {vehicle_id} rented successfully.\")\n",
    "                return\n",
    "        print(f\"Vehicle {vehicle_id} is not available for rent.\")\n",
    "\n",
    "    def return_vehicle(self, vehicle_id):\n",
    "        for vehicle in self.rented_vehicles:\n",
    "            if vehicle[\"vehicle_id\"] == vehicle_id:\n",
    "                vehicle[\"rented\"] = False\n",
    "                self.rented_vehicles.remove(vehicle)\n",
    "                print(f\"Vehicle {vehicle_id} returned successfully.\")\n",
    "                return\n",
    "        print(f\"Vehicle {vehicle_id} was not rented.\")\n",
    "\n",
    "    def display_available_vehicles(self):\n",
    "        print(\"Available Vehicles:\")\n",
    "        available = False\n",
    "        for vehicle in self.vehicles:\n",
    "            if not vehicle[\"rented\"]:\n",
    "                print(f\"ID: {vehicle['vehicle_id']}, Type: {vehicle['vehicle_type']}\")\n",
    "                available = True\n",
    "        if not available:\n",
    "            print(\"No vehicles available.\")\n",
    "\n",
    "# Example usage:\n",
    "rental_system = VehicleRental()\n",
    "rental_system.add_vehicle(\"V1\", \"Car\")\n",
    "rental_system.add_vehicle(\"V2\", \"Bike\")\n",
    "rental_system.add_vehicle(\"V3\", \"Truck\")\n",
    "\n",
    "rental_system.display_available_vehicles()\n",
    "rental_system.rent_vehicle(\"V1\")\n",
    "rental_system.display_available_vehicles()\n",
    "rental_system.return_vehicle(\"V1\")\n",
    "rental_system.display_available_vehicles()\n"
   ]
  },
  {
   "cell_type": "markdown",
   "metadata": {},
   "source": [
    "Problem 4: Library Catalog Create classes representing a library and a book. Implement methods to add books to the library, borrow books, and display available books."
   ]
  },
  {
   "cell_type": "code",
   "execution_count": 4,
   "metadata": {},
   "outputs": [],
   "source": [
    "class Book:\n",
    "    def __init__(self, book_id, title, author):\n",
    "        self.book_id = book_id\n",
    "        self.title = title\n",
    "        self.author = author\n",
    "        self.borrowed = False\n",
    "\n",
    "    def __str__(self):\n",
    "        return f\"ID: {self.book_id}, Title: {self.title}, Author: {self.author}, Borrowed: {self.borrowed}\"\n"
   ]
  },
  {
   "cell_type": "code",
   "execution_count": 5,
   "metadata": {},
   "outputs": [
    {
     "name": "stdout",
     "output_type": "stream",
     "text": [
      "Book '1984' added to the library.\n",
      "Book 'To Kill a Mockingbird' added to the library.\n",
      "Book 'The Great Gatsby' added to the library.\n",
      "Available Books:\n",
      "ID: B1, Title: 1984, Author: George Orwell\n",
      "ID: B2, Title: To Kill a Mockingbird, Author: Harper Lee\n",
      "ID: B3, Title: The Great Gatsby, Author: F. Scott Fitzgerald\n",
      "Book '1984' borrowed successfully.\n",
      "Available Books:\n",
      "ID: B2, Title: To Kill a Mockingbird, Author: Harper Lee\n",
      "ID: B3, Title: The Great Gatsby, Author: F. Scott Fitzgerald\n",
      "Book '1984' is already borrowed.\n",
      "Book with ID B4 not found in the library.\n",
      "Available Books:\n",
      "ID: B2, Title: To Kill a Mockingbird, Author: Harper Lee\n",
      "ID: B3, Title: The Great Gatsby, Author: F. Scott Fitzgerald\n"
     ]
    }
   ],
   "source": [
    "class Library:\n",
    "    def __init__(self):\n",
    "        self.books = []\n",
    "\n",
    "    def add_book(self, book):\n",
    "        self.books.append(book)\n",
    "        print(f\"Book '{book.title}' added to the library.\")\n",
    "\n",
    "    def borrow_book(self, book_id):\n",
    "        for book in self.books:\n",
    "            if book.book_id == book_id:\n",
    "                if not book.borrowed:\n",
    "                    book.borrowed = True\n",
    "                    print(f\"Book '{book.title}' borrowed successfully.\")\n",
    "                    return\n",
    "                else:\n",
    "                    print(f\"Book '{book.title}' is already borrowed.\")\n",
    "                    return\n",
    "        print(f\"Book with ID {book_id} not found in the library.\")\n",
    "\n",
    "    def display_available_books(self):\n",
    "        print(\"Available Books:\")\n",
    "        available = False\n",
    "        for book in self.books:\n",
    "            if not book.borrowed:\n",
    "                print(f\"ID: {book.book_id}, Title: {book.title}, Author: {book.author}\")\n",
    "                available = True\n",
    "        if not available:\n",
    "            print(\"No books available.\")\n",
    "\n",
    "# Example usage:\n",
    "library = Library()\n",
    "\n",
    "book1 = Book(\"B1\", \"1984\", \"George Orwell\")\n",
    "book2 = Book(\"B2\", \"To Kill a Mockingbird\", \"Harper Lee\")\n",
    "book3 = Book(\"B3\", \"The Great Gatsby\", \"F. Scott Fitzgerald\")\n",
    "\n",
    "library.add_book(book1)\n",
    "library.add_book(book2)\n",
    "library.add_book(book3)\n",
    "\n",
    "library.display_available_books()\n",
    "library.borrow_book(\"B1\")\n",
    "library.display_available_books()\n",
    "library.borrow_book(\"B1\")\n",
    "library.borrow_book(\"B4\")\n",
    "library.display_available_books()\n"
   ]
  },
  {
   "cell_type": "markdown",
   "metadata": {},
   "source": [
    "Problem 5: Product Inventory Create classes representing a product and an inventory system. Implement methods to add products to the inventory, update product quantity, and display available products."
   ]
  },
  {
   "cell_type": "code",
   "execution_count": 6,
   "metadata": {},
   "outputs": [],
   "source": [
    "class Product:\n",
    "    def __init__(self, product_id, name, price, quantity):\n",
    "        self.product_id = product_id\n",
    "        self.name = name\n",
    "        self.price = price\n",
    "        self.quantity = quantity\n",
    "\n",
    "    def __str__(self):\n",
    "        return f\"ID: {self.product_id}, Name: {self.name}, Price: {self.price}, Quantity: {self.quantity}\""
   ]
  },
  {
   "cell_type": "code",
   "execution_count": 8,
   "metadata": {},
   "outputs": [
    {
     "name": "stdout",
     "output_type": "stream",
     "text": [
      "Product 'Laptop' added to inventory.\n",
      "Product 'Smartphone' added to inventory.\n",
      "Product 'Headphones' added to inventory.\n",
      "Available Products:\n",
      "ID: P1, Name: Laptop, Price: 1500.0, Quantity: 10\n",
      "ID: P2, Name: Smartphone, Price: 800.0, Quantity: 20\n",
      "ID: P3, Name: Headphones, Price: 150.0, Quantity: 15\n",
      "Product 'Laptop' quantity updated to 15.\n",
      "Available Products:\n",
      "ID: P1, Name: Laptop, Price: 1500.0, Quantity: 15\n",
      "ID: P2, Name: Smartphone, Price: 800.0, Quantity: 20\n",
      "ID: P3, Name: Headphones, Price: 150.0, Quantity: 15\n",
      "Product with ID P4 not found in inventory.\n",
      "Product 'Smartphone' quantity updated to -5.\n",
      "Available Products:\n",
      "ID: P1, Name: Laptop, Price: 1500.0, Quantity: 15\n",
      "ID: P3, Name: Headphones, Price: 150.0, Quantity: 15\n"
     ]
    }
   ],
   "source": [
    "class Inventory:\n",
    "    def __init__(self):\n",
    "        self.products = []\n",
    "\n",
    "    def add_product(self, product):\n",
    "        self.products.append(product)\n",
    "        print(f\"Product '{product.name}' added to inventory.\")\n",
    "\n",
    "    def update_quantity(self, product_id, quantity):\n",
    "        for product in self.products:\n",
    "            if product.product_id == product_id:\n",
    "                product.quantity += quantity\n",
    "                print(f\"Product '{product.name}' quantity updated to {product.quantity}.\")\n",
    "                return\n",
    "        print(f\"Product with ID {product_id} not found in inventory.\")\n",
    "\n",
    "    def display_available_products(self):\n",
    "        print(\"Available Products:\")\n",
    "        available = False\n",
    "        for product in self.products:\n",
    "            if product.quantity > 0:\n",
    "                print(f\"ID: {product.product_id}, Name: {product.name}, Price: {product.price}, Quantity: {product.quantity}\")\n",
    "                available = True\n",
    "        if not available:\n",
    "            print(\"No products available.\")\n",
    "\n",
    "# Example usage:\n",
    "inventory = Inventory()\n",
    "\n",
    "product1 = Product(\"P1\", \"Laptop\", 1500.00, 10)\n",
    "product2 = Product(\"P2\", \"Smartphone\", 800.00, 20)\n",
    "product3 = Product(\"P3\", \"Headphones\", 150.00, 15)\n",
    "\n",
    "inventory.add_product(product1)\n",
    "inventory.add_product(product2)\n",
    "inventory.add_product(product3)\n",
    "\n",
    "inventory.display_available_products()\n",
    "inventory.update_quantity(\"P1\", 5)\n",
    "inventory.display_available_products()\n",
    "inventory.update_quantity(\"P4\", 10)\n",
    "inventory.update_quantity(\"P2\", -25)\n",
    "inventory.display_available_products()"
   ]
  },
  {
   "cell_type": "markdown",
   "metadata": {},
   "source": [
    "Problem 6: Shape Calculation Create a class representing a shape with attributes like length, width, and height. Implement methods to calculate the area and perimeter of the shape."
   ]
  },
  {
   "cell_type": "code",
   "execution_count": 9,
   "metadata": {},
   "outputs": [
    {
     "name": "stdout",
     "output_type": "stream",
     "text": [
      "Shape details: Length: 10, Width: 5, Height: None\n",
      "Area: 50\n",
      "Perimeter: 30\n"
     ]
    }
   ],
   "source": [
    "class Shape:\n",
    "    def __init__(self, length, width, height=None):\n",
    "        self.length = length\n",
    "        self.width = width\n",
    "        self.height = height  # Optional, depending on the shape\n",
    "\n",
    "    def calculate_area(self):\n",
    "        # Assuming a rectangle\n",
    "        return self.length * self.width\n",
    "\n",
    "    def calculate_perimeter(self):\n",
    "        # Assuming a rectangle\n",
    "        return 2 * (self.length + self.width)\n",
    "\n",
    "    def __str__(self):\n",
    "        return f\"Length: {self.length}, Width: {self.width}, Height: {self.height}\"\n",
    "\n",
    "# Example usage:\n",
    "shape1 = Shape(10, 5)\n",
    "print(f\"Shape details: {shape1}\")\n",
    "print(f\"Area: {shape1.calculate_area()}\")\n",
    "print(f\"Perimeter: {shape1.calculate_perimeter()}\")"
   ]
  },
  {
   "cell_type": "markdown",
   "metadata": {},
   "source": [
    "Problem 7: Student Management Create a class representing a student with attributes like student ID, name, and grades. Implement methods to calculate the average grade and display student details"
   ]
  },
  {
   "cell_type": "code",
   "execution_count": 10,
   "metadata": {},
   "outputs": [
    {
     "name": "stdout",
     "output_type": "stream",
     "text": [
      "Student ID: S123\n",
      "Name: John Doe\n",
      "Grades: [85, 90, 78]\n",
      "Average Grade: 84.33333333333333\n",
      "Grade 92 added.\n",
      "Student ID: S123\n",
      "Name: John Doe\n",
      "Grades: [85, 90, 78, 92]\n",
      "Average Grade: 86.25\n"
     ]
    }
   ],
   "source": [
    "class Student:\n",
    "    def __init__(self, student_id, name, grades=None):\n",
    "        self.student_id = student_id\n",
    "        self.name = name\n",
    "        self.grades = grades if grades is not None else []\n",
    "\n",
    "    def calculate_average_grade(self):\n",
    "        if not self.grades:\n",
    "            return 0\n",
    "        return sum(self.grades) / len(self.grades)\n",
    "\n",
    "    def display_student_details(self):\n",
    "        print(f\"Student ID: {self.student_id}\")\n",
    "        print(f\"Name: {self.name}\")\n",
    "        print(f\"Grades: {self.grades}\")\n",
    "        print(f\"Average Grade: {self.calculate_average_grade()}\")\n",
    "\n",
    "    def add_grade(self, grade):\n",
    "        self.grades.append(grade)\n",
    "        print(f\"Grade {grade} added.\")\n",
    "\n",
    "# Example usage:\n",
    "student = Student(\"S123\", \"John Doe\", [85, 90, 78])\n",
    "student.display_student_details()\n",
    "\n",
    "student.add_grade(92)\n",
    "student.display_student_details()"
   ]
  },
  {
   "cell_type": "markdown",
   "metadata": {},
   "source": [
    "Problem 8: Email Management Create a class representing an email with attributes like sender, recipient, and subject. Implement methods to send an email and display email details."
   ]
  },
  {
   "cell_type": "code",
   "execution_count": 11,
   "metadata": {},
   "outputs": [
    {
     "name": "stdout",
     "output_type": "stream",
     "text": [
      "Sender: john.doe@example.com\n",
      "Recipient: jane.smith@example.com\n",
      "Subject: Meeting Update\n",
      "Body: The meeting has been rescheduled to 3 PM.\n",
      "Sent: False\n",
      "Sending email...\n",
      "From: john.doe@example.com\n",
      "To: jane.smith@example.com\n",
      "Subject: Meeting Update\n",
      "Body: The meeting has been rescheduled to 3 PM.\n",
      "Email sent successfully.\n",
      "Sender: john.doe@example.com\n",
      "Recipient: jane.smith@example.com\n",
      "Subject: Meeting Update\n",
      "Body: The meeting has been rescheduled to 3 PM.\n",
      "Sent: True\n",
      "Email has already been sent.\n"
     ]
    }
   ],
   "source": [
    "class Email:\n",
    "    def __init__(self, sender, recipient, subject, body):\n",
    "        self.sender = sender\n",
    "        self.recipient = recipient\n",
    "        self.subject = subject\n",
    "        self.body = body\n",
    "        self.sent = False\n",
    "\n",
    "    def send_email(self):\n",
    "        if self.sent:\n",
    "            print(\"Email has already been sent.\")\n",
    "        else:\n",
    "            self.sent = True\n",
    "            print(\"Sending email...\")\n",
    "            # Simulate sending email\n",
    "            print(f\"From: {self.sender}\")\n",
    "            print(f\"To: {self.recipient}\")\n",
    "            print(f\"Subject: {self.subject}\")\n",
    "            print(f\"Body: {self.body}\")\n",
    "            print(\"Email sent successfully.\")\n",
    "\n",
    "    def display_email_details(self):\n",
    "        print(f\"Sender: {self.sender}\")\n",
    "        print(f\"Recipient: {self.recipient}\")\n",
    "        print(f\"Subject: {self.subject}\")\n",
    "        print(f\"Body: {self.body}\")\n",
    "        print(f\"Sent: {self.sent}\")\n",
    "\n",
    "# Example usage:\n",
    "email = Email(\"john.doe@example.com\", \"jane.smith@example.com\", \"Meeting Update\", \"The meeting has been rescheduled to 3 PM.\")\n",
    "email.display_email_details()\n",
    "\n",
    "email.send_email()\n",
    "email.display_email_details()\n",
    "\n",
    "# Attempt to send the email again\n",
    "email.send_email()\n"
   ]
  },
  {
   "cell_type": "markdown",
   "metadata": {},
   "source": [
    "Problem 9: Social Media Profile Create a class representing a social media profile with attributes like username and posts. Implement methods to add posts, display posts, and search for posts by keyword."
   ]
  },
  {
   "cell_type": "code",
   "execution_count": 12,
   "metadata": {},
   "outputs": [
    {
     "name": "stdout",
     "output_type": "stream",
     "text": [
      "Post added: Just had a great day at the park!\n",
      "Post added: Loving the new features in Python 3.10.\n",
      "Post added: Any book recommendations?\n",
      "Posts by Abhishek:\n",
      "1. Just had a great day at the park!\n",
      "2. Loving the new features in Python 3.10.\n",
      "3. Any book recommendations?\n",
      "Searching for posts containing the keyword 'Python':\n",
      "1. Loving the new features in Python 3.10.\n",
      "Searching for posts containing the keyword 'park':\n",
      "1. Just had a great day at the park!\n",
      "Searching for posts containing the keyword 'movie':\n",
      "No posts found with the given keyword.\n"
     ]
    }
   ],
   "source": [
    "class SocialMediaProfile:\n",
    "    def __init__(self, username):\n",
    "        self.username = username\n",
    "        self.posts = []\n",
    "\n",
    "    def add_post(self, content):\n",
    "        self.posts.append(content)\n",
    "        print(f\"Post added: {content}\")\n",
    "\n",
    "    def display_posts(self):\n",
    "        if not self.posts:\n",
    "            print(\"No posts to display.\")\n",
    "        else:\n",
    "            print(f\"Posts by {self.username}:\")\n",
    "            for idx, post in enumerate(self.posts, 1):\n",
    "                print(f\"{idx}. {post}\")\n",
    "\n",
    "    def search_posts_by_keyword(self, keyword):\n",
    "        print(f\"Searching for posts containing the keyword '{keyword}':\")\n",
    "        found_posts = [post for post in self.posts if keyword.lower() in post.lower()]\n",
    "        if not found_posts:\n",
    "            print(\"No posts found with the given keyword.\")\n",
    "        else:\n",
    "            for idx, post in enumerate(found_posts, 1):\n",
    "                print(f\"{idx}. {post}\")\n",
    "\n",
    "# Example usage:\n",
    "profile = SocialMediaProfile(\"Abhishek\")\n",
    "profile.add_post(\"Just had a great day at the park!\")\n",
    "profile.add_post(\"Loving the new features in Python 3.10.\")\n",
    "profile.add_post(\"Any book recommendations?\")\n",
    "\n",
    "profile.display_posts()\n",
    "\n",
    "profile.search_posts_by_keyword(\"Python\")\n",
    "profile.search_posts_by_keyword(\"park\")\n",
    "profile.search_posts_by_keyword(\"movie\")\n"
   ]
  },
  {
   "cell_type": "markdown",
   "metadata": {},
   "source": [
    "Problem 10: ToDo List Create a class representing a ToDo list with attributes like tasks and due dates. Implement methods to add tasks, mark tasks as completed, and display pending tasks."
   ]
  },
  {
   "cell_type": "code",
   "execution_count": 13,
   "metadata": {},
   "outputs": [],
   "source": [
    "class Task:\n",
    "    def __init__(self, description, due_date):\n",
    "        self.description = description\n",
    "        self.due_date = due_date\n",
    "        self.completed = False\n",
    "\n",
    "    def mark_completed(self):\n",
    "        self.completed = True\n",
    "\n",
    "    def __str__(self):\n",
    "        status = \"Completed\" if self.completed else \"Pending\"\n",
    "        return f\"Task: {self.description}, Due Date: {self.due_date}, Status: {status}\""
   ]
  },
  {
   "cell_type": "code",
   "execution_count": 14,
   "metadata": {},
   "outputs": [
    {
     "name": "stdout",
     "output_type": "stream",
     "text": [
      "Task added: Buy groceries\n",
      "Task added: Finish homework\n",
      "Task added: Call the bank\n",
      "Pending Tasks:\n",
      "1. Task: Buy groceries, Due Date: 2024-05-23, Status: Pending\n",
      "2. Task: Finish homework, Due Date: 2024-05-24, Status: Pending\n",
      "3. Task: Call the bank, Due Date: 2024-05-25, Status: Pending\n",
      "Task marked as completed: Finish homework\n",
      "Pending Tasks:\n",
      "1. Task: Buy groceries, Due Date: 2024-05-23, Status: Pending\n",
      "2. Task: Call the bank, Due Date: 2024-05-25, Status: Pending\n",
      "Invalid task index.\n"
     ]
    }
   ],
   "source": [
    "class ToDoList:\n",
    "    def __init__(self):\n",
    "        self.tasks = []\n",
    "\n",
    "    def add_task(self, description, due_date):\n",
    "        task = Task(description, due_date)\n",
    "        self.tasks.append(task)\n",
    "        print(f\"Task added: {description}\")\n",
    "\n",
    "    def mark_task_completed(self, task_index):\n",
    "        if 0 <= task_index < len(self.tasks):\n",
    "            self.tasks[task_index].mark_completed()\n",
    "            print(f\"Task marked as completed: {self.tasks[task_index].description}\")\n",
    "        else:\n",
    "            print(\"Invalid task index.\")\n",
    "\n",
    "    def display_pending_tasks(self):\n",
    "        print(\"Pending Tasks:\")\n",
    "        pending_tasks = [task for task in self.tasks if not task.completed]\n",
    "        if not pending_tasks:\n",
    "            print(\"No pending tasks.\")\n",
    "        else:\n",
    "            for idx, task in enumerate(pending_tasks, 1):\n",
    "                print(f\"{idx}. {task}\")\n",
    "\n",
    "# Example usage:\n",
    "todo_list = ToDoList()\n",
    "todo_list.add_task(\"Buy groceries\", \"2024-05-23\")\n",
    "todo_list.add_task(\"Finish homework\", \"2024-05-24\")\n",
    "todo_list.add_task(\"Call the bank\", \"2024-05-25\")\n",
    "\n",
    "todo_list.display_pending_tasks()\n",
    "\n",
    "todo_list.mark_task_completed(1)\n",
    "todo_list.display_pending_tasks()\n",
    "\n",
    "todo_list.mark_task_completed(5)  # Invalid index\n"
   ]
  }
 ],
 "metadata": {
  "kernelspec": {
   "display_name": "Python 3",
   "language": "python",
   "name": "python3"
  },
  "language_info": {
   "codemirror_mode": {
    "name": "ipython",
    "version": 3
   },
   "file_extension": ".py",
   "mimetype": "text/x-python",
   "name": "python",
   "nbconvert_exporter": "python",
   "pygments_lexer": "ipython3",
   "version": "3.11.4"
  }
 },
 "nbformat": 4,
 "nbformat_minor": 2
}
